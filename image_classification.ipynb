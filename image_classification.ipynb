{
 "cells": [
  {
   "cell_type": "code",
   "execution_count": 1,
   "id": "64a19918",
   "metadata": {},
   "outputs": [],
   "source": [
    "import pandas as pd\n",
    "import numpy as np\n",
    "import matplotlib.pyplot as plt\n",
    "%matplotlib inline \n",
    "#This command tells the IPython environment to draw the plots immediately after the current cell. \n",
    "import seaborn as sns\n",
    "import tensorflow as tf\n",
    "from tensorflow.keras import datasets,layers,models\n",
    "from tensorflow.keras.preprocessing.image import ImageDataGenerator\n",
    "from tensorflow.keras.callbacks import EarlyStopping\n",
    "#Early Stopping is a regularization technique for deep neural networks that stops training when parameter updates no longer begin to yield improves on a validation set."
   ]
  },
  {
   "cell_type": "code",
   "execution_count": 2,
   "id": "bf742468",
   "metadata": {},
   "outputs": [],
   "source": [
    "(X_train,y_train),(X_test,y_test)=datasets.cifar10.load_data()"
   ]
  },
  {
   "cell_type": "code",
   "execution_count": 3,
   "id": "9345f310",
   "metadata": {},
   "outputs": [
    {
     "data": {
      "text/plain": [
       "(50000, 32, 32, 3)"
      ]
     },
     "execution_count": 3,
     "metadata": {},
     "output_type": "execute_result"
    }
   ],
   "source": [
    "X_train.shape"
   ]
  },
  {
   "cell_type": "code",
   "execution_count": 4,
   "id": "680643ff",
   "metadata": {},
   "outputs": [
    {
     "data": {
      "text/plain": [
       "(50000, 1)"
      ]
     },
     "execution_count": 4,
     "metadata": {},
     "output_type": "execute_result"
    }
   ],
   "source": [
    "y_train.shape"
   ]
  },
  {
   "cell_type": "code",
   "execution_count": 5,
   "id": "b6fdfb97",
   "metadata": {},
   "outputs": [
    {
     "data": {
      "text/plain": [
       "(10000, 32, 32, 3)"
      ]
     },
     "execution_count": 5,
     "metadata": {},
     "output_type": "execute_result"
    }
   ],
   "source": [
    "X_test.shape"
   ]
  },
  {
   "cell_type": "code",
   "execution_count": 6,
   "id": "934bcf78",
   "metadata": {},
   "outputs": [
    {
     "data": {
      "text/plain": [
       "(10000, 1)"
      ]
     },
     "execution_count": 6,
     "metadata": {},
     "output_type": "execute_result"
    }
   ],
   "source": [
    "y_test.shape"
   ]
  },
  {
   "cell_type": "code",
   "execution_count": 7,
   "id": "e31eccf5",
   "metadata": {},
   "outputs": [],
   "source": [
    "#Data visualisation and preprocessing"
   ]
  },
  {
   "cell_type": "code",
   "execution_count": 8,
   "id": "e7af256b",
   "metadata": {},
   "outputs": [],
   "source": [
    "y_train=y_train.reshape(-1,)\n",
    "y_test=y_test.reshape(-1,)"
   ]
  },
  {
   "cell_type": "code",
   "execution_count": 9,
   "id": "87a714b6",
   "metadata": {},
   "outputs": [
    {
     "name": "stdout",
     "output_type": "stream",
     "text": [
      "[6 9 9 ... 9 1 1]\n"
     ]
    }
   ],
   "source": [
    "print(y_train)"
   ]
  },
  {
   "cell_type": "code",
   "execution_count": 10,
   "id": "cd0027c0",
   "metadata": {},
   "outputs": [],
   "source": [
    "classes=[\"airplane\", \"automobile\", \"bird\", \"cat\", \"deer\", \"dog\", \"frog\", \"horse\", \"ship\", \"truck\"]"
   ]
  },
  {
   "cell_type": "code",
   "execution_count": 11,
   "id": "e18f11d8",
   "metadata": {},
   "outputs": [
    {
     "data": {
      "text/plain": [
       "array([6, 9, 9, 4, 1, 1, 2, 7, 8, 3], dtype=uint8)"
      ]
     },
     "execution_count": 11,
     "metadata": {},
     "output_type": "execute_result"
    }
   ],
   "source": [
    "y_train[:10]"
   ]
  },
  {
   "cell_type": "code",
   "execution_count": 12,
   "id": "060cc584",
   "metadata": {},
   "outputs": [],
   "source": [
    "def plot_sample(X,y,index):\n",
    "    plt.figure(figsize=(15,2))\n",
    "    plt.imshow(X[index])\n",
    "    plt.xlabel(classes[y[index]])\n",
    "    "
   ]
  },
  {
   "cell_type": "code",
   "execution_count": 13,
   "id": "257af05f",
   "metadata": {},
   "outputs": [
    {
     "data": {
      "image/png": "[encoded data removed]",
      "text/plain": [
       "<Figure size 1500x200 with 1 Axes>"
      ]
     },
     "metadata": {},
     "output_type": "display_data"
    }
   ],
   "source": [
    "plot_sample(X_train,y_train,5)"
   ]
  },
  {
   "cell_type": "code",
   "execution_count": 14,
   "id": "682dbc2b",
   "metadata": {},
   "outputs": [],
   "source": [
    "X_train=X_train/255  #normalising the values; converting all values between 0-1\n",
    "X_test=X_test/255"
   ]
  },
  {
   "cell_type": "code",
   "execution_count": 15,
   "id": "38270e41",
   "metadata": {},
   "outputs": [
    {
     "name": "stdout",
     "output_type": "stream",
     "text": [
      "Epoch 1/10\n",
      "1563/1563 [==============================] - 97s 61ms/step - loss: 1.8128 - accuracy: 0.3515\n",
      "Epoch 2/10\n",
      "1563/1563 [==============================] - 97s 62ms/step - loss: 1.6245 - accuracy: 0.4249\n",
      "Epoch 3/10\n",
      "1563/1563 [==============================] - 96s 61ms/step - loss: 1.5410 - accuracy: 0.4558\n",
      "Epoch 4/10\n",
      "1563/1563 [==============================] - 97s 62ms/step - loss: 1.4794 - accuracy: 0.4785\n",
      "Epoch 5/10\n",
      "1563/1563 [==============================] - 97s 62ms/step - loss: 1.4327 - accuracy: 0.4973\n",
      "Epoch 6/10\n",
      "1563/1563 [==============================] - 97s 62ms/step - loss: 1.3910 - accuracy: 0.5121\n",
      "Epoch 7/10\n",
      "1563/1563 [==============================] - 97s 62ms/step - loss: 1.3550 - accuracy: 0.5231\n",
      "Epoch 8/10\n",
      "1563/1563 [==============================] - 98s 62ms/step - loss: 1.3164 - accuracy: 0.5380\n",
      "Epoch 9/10\n",
      "1563/1563 [==============================] - 98s 62ms/step - loss: 1.2830 - accuracy: 0.5488\n",
      "Epoch 10/10\n",
      "1563/1563 [==============================] - 97s 62ms/step - loss: 1.2520 - accuracy: 0.5591\n"
     ]
    },
    {
     "data": {
      "text/plain": [
       "<keras.src.callbacks.History at 0x1a7a2c1ad50>"
      ]
     },
     "execution_count": 15,
     "metadata": {},
     "output_type": "execute_result"
    }
   ],
   "source": [
    "#set up basic ANN model to train the model\n",
    "ann_model=models.Sequential([layers.Flatten(input_shape=(32,32,3)), #flatten into 1d array= preprocessing step\n",
    "                            layers.Dense(3000,activation='relu'), #responsible for learning complex data patterns\n",
    "                            layers.Dense(1000,activation='relu'),\n",
    "                            layers.Dense(10,activation='softmax')])\n",
    "\n",
    "#stochastic gradient descent- sgd\n",
    "ann_model.compile(optimizer='SGD', \n",
    "                 loss='sparse_categorical_crossentropy',\n",
    "                 metrics=['accuracy'])\n",
    "ann_model.fit(X_train,y_train,epochs=10)\n",
    "#it takes a lot of time to run so we change the runtime type to T4 GPU from CPU. this will \n",
    "#increase the speed or runtime speed. so we can increase the epoch value to get a higher accuracy\n",
    "#and increse the runtime speed.\n"
   ]
  },
  {
   "cell_type": "code",
   "execution_count": 16,
   "id": "fab466aa",
   "metadata": {},
   "outputs": [
    {
     "name": "stdout",
     "output_type": "stream",
     "text": [
      "Epoch 1/5\n",
      "1563/1563 [==============================] - 47s 29ms/step - loss: 1.4901 - accuracy: 0.4648\n",
      "Epoch 2/5\n",
      "1563/1563 [==============================] - 45s 29ms/step - loss: 1.1136 - accuracy: 0.6084\n",
      "Epoch 3/5\n",
      "1563/1563 [==============================] - 45s 29ms/step - loss: 0.9792 - accuracy: 0.6578\n",
      "Epoch 4/5\n",
      "1563/1563 [==============================] - 45s 29ms/step - loss: 0.8950 - accuracy: 0.6880\n",
      "Epoch 5/5\n",
      "1563/1563 [==============================] - 46s 29ms/step - loss: 0.8321 - accuracy: 0.7118\n"
     ]
    },
    {
     "data": {
      "text/plain": [
       "<keras.src.callbacks.History at 0x1a7a2c19e10>"
      ]
     },
     "execution_count": 16,
     "metadata": {},
     "output_type": "execute_result"
    }
   ],
   "source": [
    "#set up cnn model for image classification\n",
    "cnn=models.Sequential([\n",
    "    layers.Conv2D(filters=32,kernel_size=(3,3),activation='relu',input_shape=(32,32,3)),\n",
    "    layers.MaxPooling2D((2,2)),\n",
    "    layers.Conv2D(filters=64,kernel_size=(3,3),activation='relu'),\n",
    "    layers.MaxPooling2D((2,2)),\n",
    "    layers.Flatten(),\n",
    "    layers.Dense(64,activation='relu'),\n",
    "    layers.Dense(10,activation='softmax')\n",
    "])\n",
    "cnn.compile(optimizer='adam',loss='sparse_categorical_crossentropy',metrics=['accuracy'])\n",
    "cnn.fit(X_train,y_train,epochs=5)"
   ]
  },
  {
   "cell_type": "code",
   "execution_count": 31,
   "id": "74d73167",
   "metadata": {},
   "outputs": [
    {
     "name": "stdout",
     "output_type": "stream",
     "text": [
      "313/313 [==============================] - 5s 16ms/step\n",
      "Classification report:\n",
      "               precision    recall  f1-score   support\n",
      "\n",
      "           0       0.58      0.60      0.59      1000\n",
      "           1       0.71      0.56      0.63      1000\n",
      "           2       0.41      0.47      0.44      1000\n",
      "           3       0.40      0.28      0.33      1000\n",
      "           4       0.49      0.43      0.46      1000\n",
      "           5       0.39      0.53      0.45      1000\n",
      "           6       0.61      0.56      0.58      1000\n",
      "           7       0.67      0.53      0.59      1000\n",
      "           8       0.63      0.64      0.63      1000\n",
      "           9       0.50      0.69      0.58      1000\n",
      "\n",
      "    accuracy                           0.53     10000\n",
      "   macro avg       0.54      0.53      0.53     10000\n",
      "weighted avg       0.54      0.53      0.53     10000\n",
      "\n",
      "313/313 [==============================] - 4s 14ms/step - loss: 0.9287 - accuracy: 0.6770\n",
      "313/313 [==============================] - 4s 13ms/step\n"
     ]
    },
    {
     "data": {
      "text/plain": [
       "'ship'"
      ]
     },
     "execution_count": 31,
     "metadata": {},
     "output_type": "execute_result"
    },
    {
     "data": {
      "image/png": "[encoded data removed]",
      "text/plain": [
       "<Figure size 1500x200 with 1 Axes>"
      ]
     },
     "metadata": {},
     "output_type": "display_data"
    }
   ],
   "source": [
    "from sklearn.metrics import confusion_matrix,classification_report\n",
    "y_pred=ann_model.predict(X_test)\n",
    "y_pred_classes=[np.argmax(element) for element in y_pred]\n",
    "print(\"Classification report:\\n\",classification_report(y_test,y_pred_classes))\n",
    "cnn.evaluate(X_test,y_test)\n",
    "y_pred= cnn.predict(X_test)\n",
    "y_classes=[np.argmax(element) for element in y_pred]\n",
    "y_classes[:5]\n",
    "y_test[:5]\n"
   ]
  },
  {
   "cell_type": "code",
   "execution_count": 38,
   "id": "b9e559e8",
   "metadata": {},
   "outputs": [
    {
     "name": "stdout",
     "output_type": "stream",
     "text": [
      "10000\n"
     ]
    }
   ],
   "source": [
    "print(len(y_classes))"
   ]
  },
  {
   "cell_type": "code",
   "execution_count": null,
   "id": "1c1dd5fc",
   "metadata": {},
   "outputs": [],
   "source": []
  }
 ],
 "metadata": {
  "kernelspec": {
   "display_name": "Python 3 (ipykernel)",
   "language": "python",
   "name": "python3"
  },
  "language_info": {
   "codemirror_mode": {
    "name": "ipython",
    "version": 3
   },
   "file_extension": ".py",
   "mimetype": "text/x-python",
   "name": "python",
   "nbconvert_exporter": "python",
   "pygments_lexer": "ipython3",
   "version": "3.11.4"
  }
 },
 "nbformat": 4,
 "nbformat_minor": 5
}
