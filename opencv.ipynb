{
 "cells": [
  {
   "cell_type": "code",
   "execution_count": 1,
   "id": "313e5ddf",
   "metadata": {},
   "outputs": [],
   "source": [
    "import pandas as pd\n",
    "import numpy as np\n",
    "import matplotlib.pyplot as plt\n",
    "import tensorflow as tf\n",
    "from tensorflow import keras\n",
    "import os\n",
    "from PIL import Image"
   ]
  },
  {
   "cell_type": "code",
   "execution_count": 2,
   "id": "8b4de976",
   "metadata": {},
   "outputs": [
    {
     "name": "stdout",
     "output_type": "stream",
     "text": [
      "Requirement already satisfied: opencv-python in c:\\users\\kiit\\anaconda3\\lib\\site-packages (4.8.1.78)\n",
      "Requirement already satisfied: numpy>=1.21.2 in c:\\users\\kiit\\anaconda3\\lib\\site-packages (from opencv-python) (1.24.3)\n",
      "Note: you may need to restart the kernel to use updated packages.\n"
     ]
    }
   ],
   "source": [
    "pip install opencv-python"
   ]
  },
  {
   "cell_type": "code",
   "execution_count": 3,
   "id": "561864b4",
   "metadata": {},
   "outputs": [],
   "source": [
    "import cv2"
   ]
  },
  {
   "cell_type": "code",
   "execution_count": 4,
   "id": "f56ccc9a",
   "metadata": {},
   "outputs": [],
   "source": [
    "mnist=tf.keras.datasets.mnist\n",
    "(x_train,y_train),(x_test,y_test)=mnist.load_data()\n",
    "x_train=tf.keras.utils.normalize(x_train,axis=1)\n",
    "x_test=tf.keras.utils.normalize(x_test,axis=1)"
   ]
  },
  {
   "cell_type": "code",
   "execution_count": 5,
   "id": "5b410844",
   "metadata": {},
   "outputs": [],
   "source": [
    "#choosing the model\n",
    "model=tf.keras.models.Sequential()\n",
    "#flattening the model\n",
    "model.add(tf.keras.layers.Flatten(input_shape=(28,28)))\n",
    "#dense layer\n",
    "model.add(tf.keras.layers.Dense(128,activation=\"relu\"))\n",
    "model.add(tf.keras.layers.Dense(128,activation=\"relu\"))\n",
    "model.add(tf.keras.layers.Dense(10,activation=\"softmax\"))\n"
   ]
  },
  {
   "cell_type": "code",
   "execution_count": 6,
   "id": "988ce862",
   "metadata": {},
   "outputs": [
    {
     "name": "stdout",
     "output_type": "stream",
     "text": [
      "Epoch 1/5\n",
      "1875/1875 [==============================] - 11s 5ms/step - loss: 0.2667 - accuracy: 0.9206\n",
      "Epoch 2/5\n",
      "1875/1875 [==============================] - 9s 5ms/step - loss: 0.1093 - accuracy: 0.9661\n",
      "Epoch 3/5\n",
      "1875/1875 [==============================] - 9s 5ms/step - loss: 0.0746 - accuracy: 0.9765\n",
      "Epoch 4/5\n",
      "1875/1875 [==============================] - 9s 5ms/step - loss: 0.0547 - accuracy: 0.9825\n",
      "Epoch 5/5\n",
      "1875/1875 [==============================] - 9s 5ms/step - loss: 0.0427 - accuracy: 0.9864\n"
     ]
    },
    {
     "data": {
      "text/plain": [
       "<keras.src.callbacks.History at 0x291a59371d0>"
      ]
     },
     "execution_count": 6,
     "metadata": {},
     "output_type": "execute_result"
    }
   ],
   "source": [
    "#compiling the model\n",
    "model.compile(optimizer=\"adam\",loss=\"sparse_categorical_crossentropy\",metrics=\"accuracy\")\n",
    "model.fit(x_train,y_train,epochs=5)"
   ]
  },
  {
   "cell_type": "code",
   "execution_count": 7,
   "id": "8b94e1ee",
   "metadata": {},
   "outputs": [
    {
     "name": "stdout",
     "output_type": "stream",
     "text": [
      "313/313 [==============================] - 1s 3ms/step - loss: 0.1039 - accuracy: 0.9683\n"
     ]
    },
    {
     "data": {
      "text/plain": [
       "[0.10393758863210678, 0.9682999849319458]"
      ]
     },
     "execution_count": 7,
     "metadata": {},
     "output_type": "execute_result"
    }
   ],
   "source": [
    "model.evaluate(x_test,y_test)"
   ]
  },
  {
   "cell_type": "code",
   "execution_count": 8,
   "id": "7a9ec7bb",
   "metadata": {},
   "outputs": [
    {
     "name": "stdout",
     "output_type": "stream",
     "text": [
      "1/1 [==============================] - 0s 175ms/step\n",
      "Predicted class: 0\n"
     ]
    }
   ],
   "source": [
    "sample_image=cv2.imread(\"C:/Users/KIIT/anaconda3/Lib/site-packages/sklearn/datasets/data/shared from krs/img_6.jpg\",cv2.IMREAD_GRAYSCALE)\n",
    "sample_image=cv2.resize(sample_image,(28,28))\n",
    "sample_image=sample_image/255.0\n",
    "sample_image=sample_image.reshape(1,28,28,1)\n",
    "pred= model.predict(sample_image)\n",
    "pred_class=np.argmax(pred)\n",
    "print(f'Predicted class: {pred_class}')"
   ]
  },
  {
   "cell_type": "code",
   "execution_count": 9,
   "id": "ba525363",
   "metadata": {},
   "outputs": [
    {
     "name": "stdout",
     "output_type": "stream",
     "text": [
      "1/1 [==============================] - 0s 42ms/step\n",
      "Predicted class: 0\n"
     ]
    }
   ],
   "source": [
    "sample_image=cv2.imread(\"C:/Users/KIIT/anaconda3/Lib/site-packages/sklearn/datasets/data/shared from krs/img_2.jpg\",cv2.IMREAD_GRAYSCALE)\n",
    "sample_image=cv2.resize(sample_image,(28,28))\n",
    "sample_image=sample_image/255.0\n",
    "sample_image=sample_image.reshape(1,28,28,1)\n",
    "pred= model.predict(sample_image)\n",
    "pred_class=np.argmax(pred)\n",
    "print(f'Predicted class: {pred_class}')"
   ]
  },
  {
   "cell_type": "code",
   "execution_count": 10,
   "id": "77179cf1",
   "metadata": {},
   "outputs": [
    {
     "name": "stdout",
     "output_type": "stream",
     "text": [
      "1/1 [==============================] - 0s 33ms/step\n",
      "Predicted class: 3\n"
     ]
    }
   ],
   "source": [
    "sample_image=cv2.imread(\"C:/Users/KIIT/anaconda3/Lib/site-packages/sklearn/datasets/data/shared from krs/img_5.jpg\",cv2.IMREAD_GRAYSCALE)\n",
    "sample_image=cv2.resize(sample_image,(28,28))\n",
    "sample_image=sample_image/255.0\n",
    "sample_image=sample_image.reshape(1,28,28,1)\n",
    "pred= model.predict(sample_image)\n",
    "pred_class=np.argmax(pred)\n",
    "print(f'Predicted class: {pred_class}')"
   ]
  },
  {
   "cell_type": "code",
   "execution_count": 11,
   "id": "66c833ce",
   "metadata": {},
   "outputs": [
    {
     "name": "stdout",
     "output_type": "stream",
     "text": [
      "1/1 [==============================] - 0s 32ms/step\n",
      "Predicted class: 0\n"
     ]
    }
   ],
   "source": [
    "sample_image=cv2.imread(\"C:/Users/KIIT/anaconda3/Lib/site-packages/sklearn/datasets/data/shared from krs/img_6.jpg\",cv2.IMREAD_GRAYSCALE)\n",
    "sample_image=cv2.resize(sample_image,(28,28))\n",
    "sample_image=sample_image/255.0\n",
    "sample_image=sample_image.reshape(1,28,28,1)\n",
    "pred= model.predict(sample_image)\n",
    "pred_class=np.argmax(pred)\n",
    "print(f'Predicted class: {pred_class}')"
   ]
  },
  {
   "cell_type": "code",
   "execution_count": null,
   "id": "a4c72edf",
   "metadata": {},
   "outputs": [],
   "source": []
  }
 ],
 "metadata": {
  "kernelspec": {
   "display_name": "Python 3 (ipykernel)",
   "language": "python",
   "name": "python3"
  },
  "language_info": {
   "codemirror_mode": {
    "name": "ipython",
    "version": 3
   },
   "file_extension": ".py",
   "mimetype": "text/x-python",
   "name": "python",
   "nbconvert_exporter": "python",
   "pygments_lexer": "ipython3",
   "version": "3.11.4"
  }
 },
 "nbformat": 4,
 "nbformat_minor": 5
}
